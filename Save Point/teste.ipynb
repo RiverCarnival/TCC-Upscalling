{
 "cells": [
  {
   "cell_type": "code",
   "execution_count": 1,
   "metadata": {},
   "outputs": [],
   "source": [
    "import pandas as pd\n",
    "\n",
    "# Supondo que você já tenha um DataFrame chamado df\n",
    "# com colunas 'Authors' e 'Year'\n",
    "\n",
    "# Exemplo de DataFrame de entrada\n",
    "data = {'Authors': ['Autor1', 'Autor1', 'Autor2', 'Autor2', 'Autor3'],\n",
    "        'Year': [2010, 2015, 2018, 2020, 2019],\n",
    "        'Título': ['Obra1', 'Obra2', 'Obra3', 'Obra4', 'Obra5']}\n",
    "\n",
    "df = pd.DataFrame(data)\n",
    "\n",
    "# Convertendo a coluna 'Year' para o formato datetime\n",
    "df['Year'] = pd.to_datetime(df['Year'], format='%Y')\n",
    "\n",
    "# Ordenando o DataFrame por 'Year' em ordem decrescente\n",
    "df.sort_values(by=['Authors', 'Year'], ascending=[True, False], inplace=True)\n",
    "\n",
    "# Mantendo apenas as linhas únicas de cada autor (o mais recente)\n",
    "result = df.drop_duplicates(subset='Authors', keep='first')\n",
    "\n",
    "# Exibindo o resultado\n",
    "\n"
   ]
  },
  {
   "cell_type": "code",
   "execution_count": 3,
   "metadata": {},
   "outputs": [
    {
     "data": {
      "text/html": [
       "<div>\n",
       "<style scoped>\n",
       "    .dataframe tbody tr th:only-of-type {\n",
       "        vertical-align: middle;\n",
       "    }\n",
       "\n",
       "    .dataframe tbody tr th {\n",
       "        vertical-align: top;\n",
       "    }\n",
       "\n",
       "    .dataframe thead th {\n",
       "        text-align: right;\n",
       "    }\n",
       "</style>\n",
       "<table border=\"1\" class=\"dataframe\">\n",
       "  <thead>\n",
       "    <tr style=\"text-align: right;\">\n",
       "      <th></th>\n",
       "      <th>Authors</th>\n",
       "      <th>Year</th>\n",
       "      <th>Título</th>\n",
       "    </tr>\n",
       "  </thead>\n",
       "  <tbody>\n",
       "    <tr>\n",
       "      <th>1</th>\n",
       "      <td>Autor1</td>\n",
       "      <td>2015-01-01</td>\n",
       "      <td>Obra2</td>\n",
       "    </tr>\n",
       "    <tr>\n",
       "      <th>0</th>\n",
       "      <td>Autor1</td>\n",
       "      <td>2010-01-01</td>\n",
       "      <td>Obra1</td>\n",
       "    </tr>\n",
       "    <tr>\n",
       "      <th>3</th>\n",
       "      <td>Autor2</td>\n",
       "      <td>2020-01-01</td>\n",
       "      <td>Obra4</td>\n",
       "    </tr>\n",
       "    <tr>\n",
       "      <th>2</th>\n",
       "      <td>Autor2</td>\n",
       "      <td>2018-01-01</td>\n",
       "      <td>Obra3</td>\n",
       "    </tr>\n",
       "    <tr>\n",
       "      <th>4</th>\n",
       "      <td>Autor3</td>\n",
       "      <td>2019-01-01</td>\n",
       "      <td>Obra5</td>\n",
       "    </tr>\n",
       "  </tbody>\n",
       "</table>\n",
       "</div>"
      ],
      "text/plain": [
       "  Authors       Year Título\n",
       "1  Autor1 2015-01-01  Obra2\n",
       "0  Autor1 2010-01-01  Obra1\n",
       "3  Autor2 2020-01-01  Obra4\n",
       "2  Autor2 2018-01-01  Obra3\n",
       "4  Autor3 2019-01-01  Obra5"
      ]
     },
     "execution_count": 3,
     "metadata": {},
     "output_type": "execute_result"
    }
   ],
   "source": [
    "df"
   ]
  },
  {
   "cell_type": "code",
   "execution_count": 2,
   "metadata": {},
   "outputs": [
    {
     "data": {
      "text/html": [
       "<div>\n",
       "<style scoped>\n",
       "    .dataframe tbody tr th:only-of-type {\n",
       "        vertical-align: middle;\n",
       "    }\n",
       "\n",
       "    .dataframe tbody tr th {\n",
       "        vertical-align: top;\n",
       "    }\n",
       "\n",
       "    .dataframe thead th {\n",
       "        text-align: right;\n",
       "    }\n",
       "</style>\n",
       "<table border=\"1\" class=\"dataframe\">\n",
       "  <thead>\n",
       "    <tr style=\"text-align: right;\">\n",
       "      <th></th>\n",
       "      <th>Authors</th>\n",
       "      <th>Year</th>\n",
       "      <th>Título</th>\n",
       "    </tr>\n",
       "  </thead>\n",
       "  <tbody>\n",
       "    <tr>\n",
       "      <th>1</th>\n",
       "      <td>Autor1</td>\n",
       "      <td>2015-01-01</td>\n",
       "      <td>Obra2</td>\n",
       "    </tr>\n",
       "    <tr>\n",
       "      <th>3</th>\n",
       "      <td>Autor2</td>\n",
       "      <td>2020-01-01</td>\n",
       "      <td>Obra4</td>\n",
       "    </tr>\n",
       "    <tr>\n",
       "      <th>4</th>\n",
       "      <td>Autor3</td>\n",
       "      <td>2019-01-01</td>\n",
       "      <td>Obra5</td>\n",
       "    </tr>\n",
       "  </tbody>\n",
       "</table>\n",
       "</div>"
      ],
      "text/plain": [
       "  Authors       Year Título\n",
       "1  Autor1 2015-01-01  Obra2\n",
       "3  Autor2 2020-01-01  Obra4\n",
       "4  Autor3 2019-01-01  Obra5"
      ]
     },
     "execution_count": 2,
     "metadata": {},
     "output_type": "execute_result"
    }
   ],
   "source": [
    "result"
   ]
  }
 ],
 "metadata": {
  "kernelspec": {
   "display_name": "Python 3",
   "language": "python",
   "name": "python3"
  },
  "language_info": {
   "codemirror_mode": {
    "name": "ipython",
    "version": 3
   },
   "file_extension": ".py",
   "mimetype": "text/x-python",
   "name": "python",
   "nbconvert_exporter": "python",
   "pygments_lexer": "ipython3",
   "version": "3.11.5"
  }
 },
 "nbformat": 4,
 "nbformat_minor": 2
}
